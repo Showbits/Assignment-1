{
 "cells": [
  {
   "cell_type": "code",
   "execution_count": 1,
   "id": "00726f3f",
   "metadata": {},
   "outputs": [],
   "source": [
    "##Question No. 1\n",
    "##Data Query/Processing Task"
   ]
  },
  {
   "cell_type": "code",
   "execution_count": 2,
   "id": "159e55c0",
   "metadata": {},
   "outputs": [],
   "source": [
    "##Import VTK\n",
    "from vtk import *"
   ]
  },
  {
   "cell_type": "code",
   "execution_count": 4,
   "id": "d8116d9a",
   "metadata": {},
   "outputs": [],
   "source": [
    "##Loading dataset using vtkXMLImageDataReader() and created a data object from readers output\n",
    "\n",
    "reader = vtkXMLImageDataReader() \n",
    "reader.SetFileName('Data/Isabel_2D.vti') \n",
    "reader.Update() \n",
    "data = reader.GetOutput()\n",
    "# print(data)"
   ]
  },
  {
   "cell_type": "code",
   "execution_count": 4,
   "id": "710ae08e",
   "metadata": {},
   "outputs": [
    {
     "name": "stdout",
     "output_type": "stream",
     "text": [
      "No. Of Cells in the Dataset : 62001\n"
     ]
    }
   ],
   "source": [
    "##Finding No. of cells in the dataset\n",
    "\n",
    "numcells = data.GetNumberOfCells()\n",
    "print(\"No. Of Cells in the Dataset :\",numcells)"
   ]
  },
  {
   "cell_type": "code",
   "execution_count": 5,
   "id": "76a7b8e6",
   "metadata": {},
   "outputs": [
    {
     "name": "stdout",
     "output_type": "stream",
     "text": [
      "Dimension of the Dataset (250, 250, 1)\n"
     ]
    }
   ],
   "source": [
    "##Finding the dimension of the dataSet\n",
    "dim = data.GetDimensions()\n",
    "print(\"Dimension of the Dataset\",dim)"
   ]
  },
  {
   "cell_type": "code",
   "execution_count": 6,
   "id": "86d6682f",
   "metadata": {},
   "outputs": [
    {
     "name": "stdout",
     "output_type": "stream",
     "text": [
      "No. of Points in the Dataset : 62500\n"
     ]
    }
   ],
   "source": [
    "##Finding the No. Of Points\n",
    "nOfPoints = data.GetNumberOfPoints()\n",
    "print(\"No. of Points in the Dataset :\",nOfPoints)"
   ]
  },
  {
   "cell_type": "code",
   "execution_count": 7,
   "id": "fb902ed4",
   "metadata": {},
   "outputs": [
    {
     "name": "stdout",
     "output_type": "stream",
     "text": [
      "Range of Pressure values in the Dataset : (-1434.8590087890625, 630.5694580078125)\n"
     ]
    }
   ],
   "source": [
    "##Calculating Range of Pressure values present in the Dataset\n",
    "\n",
    "r = data.GetPointData().GetArray('Pressure').GetRange()\n",
    "print(\"Range of Pressure values in the Dataset :\",r)"
   ]
  },
  {
   "cell_type": "code",
   "execution_count": 8,
   "id": "efa0666d",
   "metadata": {},
   "outputs": [
    {
     "name": "stdout",
     "output_type": "stream",
     "text": [
      "Average of Pressure values of entire Dataset : 240.77722069091325\n"
     ]
    }
   ],
   "source": [
    "##Calculating Average of Pressure values of the entire dataset\n",
    "\n",
    "dataArr = data.GetPointData().GetArray('Pressure')\n",
    "# print(dataArr)\n",
    "s = 0\n",
    "\n",
    "for i in range(nOfPoints):\n",
    "    s += dataArr.GetTuple1(i)\n",
    "print(\"Average of Pressure values of entire Dataset :\", s/nOfPoints)\n"
   ]
  },
  {
   "cell_type": "code",
   "execution_count": 9,
   "id": "111cbc7d",
   "metadata": {},
   "outputs": [],
   "source": [
    "##Extracting a vtkCell object with cell id=0\n",
    "\n",
    "id = 0\n",
    "cell = data.GetCell(id)\n",
    "pid1 = cell.GetPointId(0)\n",
    "pid2 = cell.GetPointId(1)\n",
    "pid3 = cell.GetPointId(3)\n",
    "pid4 = cell.GetPointId(2)"
   ]
  },
  {
   "cell_type": "code",
   "execution_count": 10,
   "id": "af4a776d",
   "metadata": {},
   "outputs": [
    {
     "name": "stdout",
     "output_type": "stream",
     "text": [
      "The indices of the four corner vertices of the cell: 0 , 1 , 251 , 250\n"
     ]
    }
   ],
   "source": [
    "#printing the indices of four corner vertices of the cell \n",
    "\n",
    "print(\"The indices of the four corner vertices of the cell:\",pid1,\",\",pid2,\",\",pid3,\",\",pid4)"
   ]
  },
  {
   "cell_type": "code",
   "execution_count": 11,
   "id": "b931b8cf",
   "metadata": {},
   "outputs": [
    {
     "name": "stdout",
     "output_type": "stream",
     "text": [
      "3D Coordinates for Point 1 : (0.0, 0.0, 25.0)\n",
      "3D Coordinates for Point 2 : (1.0, 0.0, 25.0)\n",
      "3D Coordinates for Point 3 : (1.0, 1.0, 25.0)\n",
      "3D Coordinates for Point 4 : (0.0, 1.0, 25.0)\n"
     ]
    }
   ],
   "source": [
    "##Printing the 3D Coordinates of each vertex\n",
    "\n",
    "print(\"3D Coordinates for Point 1 :\",data.GetPoint(pid1))\n",
    "print(\"3D Coordinates for Point 2 :\",data.GetPoint(pid2))\n",
    "print(\"3D Coordinates for Point 3 :\",data.GetPoint(pid3))\n",
    "print(\"3D Coordinates for Point 4 :\",data.GetPoint(pid4))"
   ]
  },
  {
   "cell_type": "code",
   "execution_count": 12,
   "id": "ae0c536f",
   "metadata": {},
   "outputs": [
    {
     "name": "stdout",
     "output_type": "stream",
     "text": [
      "3D Coordinates of the cell center : 0.5 0.5 25.0\n"
     ]
    }
   ],
   "source": [
    "##Calculating the 3D coordinates of center of the cell\n",
    "dim1 = data.GetPoint(pid1)\n",
    "dim2 = data.GetPoint(pid2)\n",
    "dim3 = data.GetPoint(pid3)\n",
    "dim4 = data.GetPoint(pid4)\n",
    "x = (dim1[0] + dim2[0] + dim3[0] + dim4[0])/4\n",
    "y = (dim1[1] + dim2[1] + dim3[1] + dim4[1])/4\n",
    "z = (dim1[2] + dim2[2] + dim3[2] + dim4[2])/4    \n",
    "print(\"3D Coordinates of the cell center :\",x, y, z)"
   ]
  },
  {
   "cell_type": "code",
   "execution_count": 13,
   "id": "18c049c5",
   "metadata": {},
   "outputs": [
    {
     "name": "stdout",
     "output_type": "stream",
     "text": [
      "Pressure Value at Point 1: 477.527587890625\n",
      "Pressure Value at Point 2: 474.79827880859375\n",
      "Pressure Value at Point 3: 467.60699462890625\n",
      "Pressure Value at Point 4: 478.0115661621094\n"
     ]
    }
   ],
   "source": [
    "# Finding the value of the pressure at all the four vertices of extracted cell\n",
    "val1 = dataArr.GetTuple1(pid1) \n",
    "val2 = dataArr.GetTuple1(pid2)\n",
    "val3 = dataArr.GetTuple1(pid3)\n",
    "val4 = dataArr.GetTuple1(pid4)\n",
    "print(\"Pressure Value at Point 1:\", val1)\n",
    "print(\"Pressure Value at Point 2:\", val2)\n",
    "print(\"Pressure Value at Point 3:\", val3)\n",
    "print(\"Pressure Value at Point 4:\", val4)"
   ]
  },
  {
   "cell_type": "code",
   "execution_count": 14,
   "id": "03e3ede4",
   "metadata": {},
   "outputs": [
    {
     "name": "stdout",
     "output_type": "stream",
     "text": [
      "Average Pressure value at cell center: 474.4861068725586\n"
     ]
    }
   ],
   "source": [
    "##Average Pressure value at cell centre\n",
    "avg = (val1 + val2 + val3 + val4)/4\n",
    "print(\"Average Pressure value at cell center:\",avg)"
   ]
  },
  {
   "cell_type": "code",
   "execution_count": 15,
   "id": "7fa175c0",
   "metadata": {},
   "outputs": [],
   "source": [
    "##Question No. 2\n",
    "##Visualization Task"
   ]
  },
  {
   "cell_type": "code",
   "execution_count": 16,
   "id": "af9b33cc",
   "metadata": {},
   "outputs": [],
   "source": [
    "##Creating PolyData\n",
    "pdata = vtkPolyData()"
   ]
  },
  {
   "cell_type": "code",
   "execution_count": 17,
   "id": "83d344f3",
   "metadata": {},
   "outputs": [],
   "source": [
    "##storing extracted cell points\n",
    "points = vtkPoints()\n",
    "points.InsertNextPoint(data.GetPoint(pid1))\n",
    "points.InsertNextPoint(data.GetPoint(pid2))\n",
    "points.InsertNextPoint(data.GetPoint(pid3))\n",
    "points.InsertNextPoint(data.GetPoint(pid4))\n",
    "points.Modified()"
   ]
  },
  {
   "cell_type": "code",
   "execution_count": 18,
   "id": "836943da",
   "metadata": {},
   "outputs": [],
   "source": [
    "##inserting points in polydata\n",
    "pdata.SetPoints(points)"
   ]
  },
  {
   "cell_type": "code",
   "execution_count": 19,
   "id": "7af5901f",
   "metadata": {},
   "outputs": [],
   "source": [
    "##specifying a color for each of the points\n",
    "colors = vtkNamedColors()\n",
    "Colors = vtkUnsignedCharArray()\n",
    "Colors.SetNumberOfComponents(3)\n",
    "Colors.SetName('Colors')\n",
    "Colors.InsertNextTuple3(*colors.GetColor3ub('Red'))\n",
    "Colors.InsertNextTuple3(*colors.GetColor3ub('Green'))\n",
    "Colors.InsertNextTuple3(*colors.GetColor3ub('Yellow'))\n",
    "Colors.InsertNextTuple3(*colors.GetColor3ub('Blue'))\n",
    "pdata.GetPointData().SetScalars(Colors)\n",
    "pdata.Modified()"
   ]
  },
  {
   "cell_type": "code",
   "execution_count": 20,
   "id": "48538d85",
   "metadata": {},
   "outputs": [],
   "source": [
    "##Used vtkVertexGlyphFilter() to create visual representation of each point\n",
    "filter = vtkVertexGlyphFilter()\n",
    "filter.AddInputData(pdata)\n",
    "filter.Update()"
   ]
  },
  {
   "cell_type": "code",
   "execution_count": 21,
   "id": "a0c1d6e6",
   "metadata": {},
   "outputs": [],
   "source": [
    "#setting up the Mapper\n",
    "mapper = vtkDataSetMapper()\n",
    "mapper.SetInputConnection(filter.GetOutputPort())"
   ]
  },
  {
   "cell_type": "code",
   "execution_count": 22,
   "id": "747cadce",
   "metadata": {},
   "outputs": [],
   "source": [
    "#Creating an Actor and setting up the mapper to actor\n",
    "actor = vtkActor()\n",
    "actor.SetMapper(mapper)\n",
    "actor.GetProperty().SetPointSize(20)"
   ]
  },
  {
   "cell_type": "code",
   "execution_count": 23,
   "id": "867ea3b6",
   "metadata": {},
   "outputs": [],
   "source": [
    "##Created a renderer and setting up the actor to renderer\n",
    "renderer = vtkRenderer()\n",
    "renderer.AddActor(actor)\n",
    "renderer.SetBackground(1.0,1.0,1.0)"
   ]
  },
  {
   "cell_type": "code",
   "execution_count": 24,
   "id": "facce51e",
   "metadata": {},
   "outputs": [],
   "source": [
    "##Created render window and setting up the renderer to render window\n",
    "rwindow = vtkRenderWindow()\n",
    "rwindow.SetSize(800,800)\n",
    "rwindow.AddRenderer(renderer)"
   ]
  },
  {
   "cell_type": "code",
   "execution_count": 25,
   "id": "6d445c14",
   "metadata": {},
   "outputs": [],
   "source": [
    "##Created render_windowInteractor and setting up the renderWindow to interactor\n",
    "render_windowInteractor = vtkRenderWindowInteractor() \n",
    "render_windowInteractor.SetRenderWindow(rwindow) "
   ]
  },
  {
   "cell_type": "code",
   "execution_count": 26,
   "id": "124f288c",
   "metadata": {},
   "outputs": [],
   "source": [
    "##render the object\n",
    "rwindow.Render()\n",
    "render_windowInteractor.Start()"
   ]
  }
 ],
 "metadata": {
  "kernelspec": {
   "display_name": "Python 3 (ipykernel)",
   "language": "python",
   "name": "python3"
  },
  "language_info": {
   "codemirror_mode": {
    "name": "ipython",
    "version": 3
   },
   "file_extension": ".py",
   "mimetype": "text/x-python",
   "name": "python",
   "nbconvert_exporter": "python",
   "pygments_lexer": "ipython3",
   "version": "3.9.13"
  }
 },
 "nbformat": 4,
 "nbformat_minor": 5
}
